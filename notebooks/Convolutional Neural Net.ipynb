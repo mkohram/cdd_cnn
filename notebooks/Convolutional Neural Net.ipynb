{
 "cells": [
  {
   "cell_type": "code",
   "execution_count": 7,
   "metadata": {
    "collapsed": false
   },
   "outputs": [],
   "source": [
    "import numpy as np\n",
    "import os\n",
    "\n",
    "from keras.models import Sequential\n",
    "from keras.layers.core import Dense, Dropout, Activation, Flatten, MaskedLayer\n",
    "from keras.optimizers import SGD\n",
    "from keras.layers.convolutional import Convolution1D\n",
    "from keras.layers.noise import GaussianNoise\n",
    "\n",
    "%matplotlib inline\n",
    "import matplotlib.pyplot as plt"
   ]
  },
  {
   "cell_type": "code",
   "execution_count": 8,
   "metadata": {
    "collapsed": true
   },
   "outputs": [],
   "source": [
    "class GaussianNoisePermanent(GaussianNoise):\n",
    "    ''' Extending the Keras GaussianNoise layer to work both \n",
    "        during train and test.\n",
    "    '''\n",
    "\n",
    "    def get_output(self, train=False):\n",
    "        X = self.get_input(train)\n",
    "        \n",
    "        return X + K.random_normal(shape=K.shape(X),\n",
    "                                   mean=0.,\n",
    "                                   std=self.sigma)"
   ]
  },
  {
   "cell_type": "markdown",
   "metadata": {},
   "source": [
    "# Data"
   ]
  },
  {
   "cell_type": "code",
   "execution_count": 11,
   "metadata": {
    "collapsed": false
   },
   "outputs": [],
   "source": [
    "train_filenames = ['../data/cd00' + '{:03d}'.format(i) + '.smp.npy' for i in range(1,101)]\n",
    "X_train = np.vstack((np.load(fn)/1000 for fn in train_filenames if os.path.exists(fn)))\n",
    "Y_train = X_train[:,7,:]\n",
    "\n",
    "test_filenames = ['../data/cd00' + '{:03d}'.format(i) + '.smp.npy' for i in range(101,201)]\n",
    "X_test = np.vstack((np.load(fn)/1000 for fn in test_filenames if os.path.exists(fn)))\n",
    "Y_test = X_test[:,7,:]"
   ]
  },
  {
   "cell_type": "markdown",
   "metadata": {},
   "source": [
    "# Model"
   ]
  },
  {
   "cell_type": "code",
   "execution_count": null,
   "metadata": {
    "collapsed": false
   },
   "outputs": [],
   "source": [
    "model = Sequential()\n",
    "\n",
    "GaussianNoisePermanent(10, input_shape=(20,15))\n",
    "model.add(Convolution1D(\n",
    "        64,\n",
    "        5, \n",
    "        input_dim=20, \n",
    "        init='glorot_normal', \n",
    "        input_length=15, \n",
    "        border_mode='same', \n",
    "        activation='relu'\n",
    "))\n",
    "# model.add(Dropout(0.5))\n",
    "\n",
    "model.add(Convolution1D(\n",
    "        64, \n",
    "        5, \n",
    "        init='glorot_normal', \n",
    "        border_mode='same', \n",
    "        activation='relu'\n",
    "))\n",
    "\n",
    "# model.add(Dropout(0.5))\n",
    "\n",
    "model.add(Flatten())\n",
    "\n",
    "model.add(Dense(20, init='glorot_normal', activation='tanh'))\n",
    "\n",
    "sgd = SGD(lr=0.1, decay=1e-6, momentum=0.9, nesterov=True)\n",
    "model.compile(loss='mean_squared_error', optimizer='adam')"
   ]
  },
  {
   "cell_type": "code",
   "execution_count": null,
   "metadata": {
    "collapsed": false
   },
   "outputs": [
    {
     "name": "stdout",
     "output_type": "stream",
     "text": [
      "Train on 10137 samples, validate on 13371 samples\n",
      "Epoch 1/20\n",
      "10137/10137 [==============================] - 111s - loss: 0.0393 - acc: 0.4854 - val_loss: 0.0128 - val_acc: 0.6996\n",
      "Epoch 2/20\n",
      "10137/10137 [==============================] - 111s - loss: 0.0086 - acc: 0.7738 - val_loss: 0.0056 - val_acc: 0.8224\n",
      "Epoch 3/20\n",
      "10137/10137 [==============================] - 112s - loss: 0.0063 - acc: 0.8185 - val_loss: 0.0066 - val_acc: 0.8063\n",
      "Epoch 4/20\n",
      "10137/10137 [==============================] - 112s - loss: 0.0064 - acc: 0.8216 - val_loss: 0.0070 - val_acc: 0.7960\n",
      "Epoch 5/20\n",
      "10137/10137 [==============================] - 112s - loss: 0.0060 - acc: 0.8347 - val_loss: 0.0051 - val_acc: 0.8372\n",
      "Epoch 6/20\n",
      "10137/10137 [==============================] - 112s - loss: 0.0058 - acc: 0.8359 - val_loss: 0.0063 - val_acc: 0.8083\n",
      "Epoch 7/20\n",
      "10137/10137 [==============================] - 112s - loss: 0.0056 - acc: 0.8395 - val_loss: 0.0050 - val_acc: 0.8393\n",
      "Epoch 8/20\n",
      "10137/10137 [==============================] - 112s - loss: 0.0054 - acc: 0.8399 - val_loss: 0.0055 - val_acc: 0.8289\n",
      "Epoch 9/20\n",
      "10137/10137 [==============================] - 112s - loss: 0.0051 - acc: 0.8412 - val_loss: 0.0061 - val_acc: 0.8088\n",
      "Epoch 10/20\n",
      "10137/10137 [==============================] - 115s - loss: 0.0053 - acc: 0.8453 - val_loss: 0.0054 - val_acc: 0.8342\n",
      "Epoch 11/20\n",
      "10135/10137 [============================>.] - ETA: 0s - loss: 0.0052 - acc: 0.8461"
     ]
    }
   ],
   "source": [
    "model.fit(\n",
    "    X_train, \n",
    "    Y_train, \n",
    "    nb_epoch=20, \n",
    "    batch_size=5, \n",
    "    validation_data=(X_test, Y_test),\n",
    "    show_accuracy=True\n",
    ")\n",
    "\n",
    "score = model.predict(X_test, batch_size=16)"
   ]
  },
  {
   "cell_type": "markdown",
   "metadata": {},
   "source": [
    "## PLAYGROUND"
   ]
  },
  {
   "cell_type": "code",
   "execution_count": 89,
   "metadata": {
    "collapsed": false
   },
   "outputs": [
    {
     "data": {
      "text/plain": [
       "<matplotlib.colorbar.Colorbar at 0x112684cf8>"
      ]
     },
     "execution_count": 89,
     "metadata": {},
     "output_type": "execute_result"
    },
    {
     "data": {
      "image/png": "[encoded data removed]",
      "text/plain": [
       "<matplotlib.figure.Figure at 0x1123818d0>"
      ]
     },
     "metadata": {},
     "output_type": "display_data"
    }
   ],
   "source": [
    "tmp = plt.imshow(model.predict(X_train) - Y_train, interpolation='nearest', aspect='auto')\n",
    "plt.colorbar()"
   ]
  },
  {
   "cell_type": "code",
   "execution_count": 10,
   "metadata": {
    "collapsed": false
   },
   "outputs": [
    {
     "data": {
      "text/plain": [
       "array([[[-0.364, -0.363, -0.569, ...,  0.178, -0.47 ,  0.   ],\n",
       "        [-0.275, -0.393, -0.357, ...,  0.378, -0.512, -0.392],\n",
       "        [-0.392, -0.422, -0.544, ..., -0.234,  0.324, -0.147],\n",
       "        ..., \n",
       "        [-0.211, -0.501, -0.372, ..., -0.571, -0.501, -0.56 ],\n",
       "        [-0.316, -0.545, -0.263, ..., -0.469, -0.441, -0.384],\n",
       "        [-0.227, -0.284, -0.448, ...,  0.646, -0.44 , -0.317]],\n",
       "\n",
       "       [[-0.275, -0.393, -0.357, ...,  0.378, -0.512, -0.392],\n",
       "        [-0.392, -0.422, -0.544, ..., -0.234,  0.324, -0.147],\n",
       "        [ 0.299,  0.397, -0.477, ...,  0.173, -0.453, -0.346],\n",
       "        ..., \n",
       "        [-0.316, -0.545, -0.263, ..., -0.469, -0.441, -0.384],\n",
       "        [-0.227, -0.284, -0.448, ...,  0.646, -0.44 , -0.317],\n",
       "        [ 0.397,  0.339, -0.454, ...,  0.285, -0.502, -0.421]],\n",
       "\n",
       "       [[-0.392, -0.422, -0.544, ..., -0.234,  0.324, -0.147],\n",
       "        [ 0.299,  0.397, -0.477, ...,  0.173, -0.453, -0.346],\n",
       "        [-0.383, -0.598, -0.404, ..., -0.502, -0.521, -0.413],\n",
       "        ..., \n",
       "        [-0.227, -0.284, -0.448, ...,  0.646, -0.44 , -0.317],\n",
       "        [ 0.397,  0.339, -0.454, ...,  0.285, -0.502, -0.421],\n",
       "        [-0.28 , -0.361, -0.388, ...,  0.215, -0.421, -0.275]],\n",
       "\n",
       "       ..., \n",
       "       [[-0.206,  0.314, -0.306, ..., -0.298, -0.207,  0.044],\n",
       "        [-0.274, -0.27 , -0.506, ..., -0.046, -0.3  , -0.242],\n",
       "        [ 0.344, -0.254, -0.28 , ..., -0.23 , -0.398, -0.359],\n",
       "        ..., \n",
       "        [-0.287, -0.491,  0.668, ..., -0.442, -0.544, -0.42 ],\n",
       "        [-0.368, -0.386, -0.506, ..., -0.221, -0.029,  0.189],\n",
       "        [-0.232, -0.355, -0.273, ..., -0.177, -0.169,  0.475]],\n",
       "\n",
       "       [[-0.274, -0.27 , -0.506, ..., -0.046, -0.3  , -0.242],\n",
       "        [ 0.344, -0.254, -0.28 , ..., -0.23 , -0.398, -0.359],\n",
       "        [-0.234, -0.415, -0.097, ..., -0.425, -0.464, -0.303],\n",
       "        ..., \n",
       "        [-0.368, -0.386, -0.506, ..., -0.221, -0.029,  0.189],\n",
       "        [-0.232, -0.355, -0.273, ..., -0.177, -0.169,  0.475],\n",
       "        [-0.276, -0.296, -0.473, ...,  0.011, -0.228, -0.072]],\n",
       "\n",
       "       [[ 0.344, -0.254, -0.28 , ..., -0.23 , -0.398, -0.359],\n",
       "        [-0.234, -0.415, -0.097, ..., -0.425, -0.464, -0.303],\n",
       "        [-0.14 , -0.304, -0.248, ..., -0.246, -0.351, -0.27 ],\n",
       "        ..., \n",
       "        [-0.232, -0.355, -0.273, ..., -0.177, -0.169,  0.475],\n",
       "        [-0.276, -0.296, -0.473, ...,  0.011, -0.228, -0.072],\n",
       "        [-0.185, -0.371, -0.122, ..., -0.263, -0.372, -0.297]]])"
      ]
     },
     "execution_count": 10,
     "metadata": {},
     "output_type": "execute_result"
    }
   ],
   "source": [
    "X_train"
   ]
  },
  {
   "cell_type": "code",
   "execution_count": null,
   "metadata": {
    "collapsed": true
   },
   "outputs": [],
   "source": []
  }
 ],
 "metadata": {
  "kernelspec": {
   "display_name": "Python 3",
   "language": "python",
   "name": "python3"
  },
  "language_info": {
   "codemirror_mode": {
    "name": "ipython",
    "version": 3
   },
   "file_extension": ".py",
   "mimetype": "text/x-python",
   "name": "python",
   "nbconvert_exporter": "python",
   "pygments_lexer": "ipython3",
   "version": "3.5.0"
  }
 },
 "nbformat": 4,
 "nbformat_minor": 0
}
